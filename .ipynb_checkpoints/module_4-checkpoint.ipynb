{
 "cells": [
  {
   "cell_type": "markdown",
   "id": "ba800d02",
   "metadata": {},
   "source": [
    "# What is File function in python? What is keywords to create and write file.\n",
    "\n",
    "Files are named locations on disk to store related information. They are used to permanently store data in a non-volatile memory \n",
    "Random Access Memory we use files for future use of the data by permanently storing them.\n",
    "\n",
    "create and write file"
   ]
  },
  {
   "cell_type": "code",
   "execution_count": 9,
   "id": "3cc52938",
   "metadata": {},
   "outputs": [],
   "source": [
    "file_obj=open('module_practice.txt','x') #creat a file\n",
    "file_obj.write('hello this is demo for write data in file') #write data to the created file\n",
    "\n",
    "file_obj.close()"
   ]
  },
  {
   "cell_type": "markdown",
   "id": "91bfd2ac",
   "metadata": {},
   "source": [
    "# Write a Python program to read an entire text file."
   ]
  },
  {
   "cell_type": "code",
   "execution_count": 14,
   "id": "a6a0082a",
   "metadata": {},
   "outputs": [],
   "source": [
    "file_obj=open('module_practice.txt')"
   ]
  },
  {
   "cell_type": "raw",
   "id": "d0b68613",
   "metadata": {},
   "source": [
    "\n",
    "file_obj.read()"
   ]
  },
  {
   "cell_type": "code",
   "execution_count": 17,
   "id": "79959bad",
   "metadata": {},
   "outputs": [
    {
     "data": {
      "text/plain": [
       "''"
      ]
     },
     "execution_count": 17,
     "metadata": {},
     "output_type": "execute_result"
    }
   ],
   "source": [
    "file_obj.read()"
   ]
  },
  {
   "cell_type": "code",
   "execution_count": 19,
   "id": "7a7e7972",
   "metadata": {},
   "outputs": [
    {
     "data": {
      "text/plain": [
       "0"
      ]
     },
     "execution_count": 19,
     "metadata": {},
     "output_type": "execute_result"
    }
   ],
   "source": [
    "file_obj.seek(0)"
   ]
  },
  {
   "cell_type": "code",
   "execution_count": 20,
   "id": "7d207076",
   "metadata": {},
   "outputs": [
    {
     "data": {
      "text/plain": [
       "'hello this'"
      ]
     },
     "execution_count": 20,
     "metadata": {},
     "output_type": "execute_result"
    }
   ],
   "source": [
    "file_obj.read(10)"
   ]
  },
  {
   "cell_type": "code",
   "execution_count": 21,
   "id": "bca9659d",
   "metadata": {},
   "outputs": [],
   "source": [
    "file_obj.close()"
   ]
  },
  {
   "cell_type": "markdown",
   "id": "94ac10eb",
   "metadata": {},
   "source": [
    "# Write a Python program to append text to a file and display the text."
   ]
  },
  {
   "cell_type": "code",
   "execution_count": 22,
   "id": "80916349",
   "metadata": {},
   "outputs": [],
   "source": [
    "file_obj = open('module_practice.txt','a+')"
   ]
  },
  {
   "cell_type": "code",
   "execution_count": 23,
   "id": "f991b150",
   "metadata": {},
   "outputs": [
    {
     "data": {
      "text/plain": [
       "45"
      ]
     },
     "execution_count": 23,
     "metadata": {},
     "output_type": "execute_result"
    }
   ],
   "source": [
    "file_obj.write('\\n append text to a file and display the text.')"
   ]
  },
  {
   "cell_type": "code",
   "execution_count": 24,
   "id": "8bdc3e60",
   "metadata": {},
   "outputs": [
    {
     "data": {
      "text/plain": [
       "''"
      ]
     },
     "execution_count": 24,
     "metadata": {},
     "output_type": "execute_result"
    }
   ],
   "source": [
    "file_obj.read()"
   ]
  },
  {
   "cell_type": "code",
   "execution_count": 26,
   "id": "4450f66a",
   "metadata": {},
   "outputs": [
    {
     "data": {
      "text/plain": [
       "0"
      ]
     },
     "execution_count": 26,
     "metadata": {},
     "output_type": "execute_result"
    }
   ],
   "source": [
    "file_obj.seek(0)"
   ]
  },
  {
   "cell_type": "code",
   "execution_count": 28,
   "id": "e495f9d8",
   "metadata": {},
   "outputs": [
    {
     "data": {
      "text/plain": [
       "'hello this is demo for write data in file\\n append text to a file and display the text.'"
      ]
     },
     "execution_count": 28,
     "metadata": {},
     "output_type": "execute_result"
    }
   ],
   "source": [
    "file_obj.read()"
   ]
  },
  {
   "cell_type": "code",
   "execution_count": 30,
   "id": "a29633f8",
   "metadata": {},
   "outputs": [],
   "source": [
    "file_obj.close()"
   ]
  },
  {
   "cell_type": "markdown",
   "id": "c5f5b455",
   "metadata": {},
   "source": [
    "# Write a Python program to read first n lines of a file."
   ]
  },
  {
   "cell_type": "code",
   "execution_count": 31,
   "id": "e139f112",
   "metadata": {},
   "outputs": [],
   "source": [
    "file_obj = open('module_practice.txt')"
   ]
  },
  {
   "cell_type": "code",
   "execution_count": 34,
   "id": "1392d8c2",
   "metadata": {},
   "outputs": [
    {
     "data": {
      "text/plain": [
       "''"
      ]
     },
     "execution_count": 34,
     "metadata": {},
     "output_type": "execute_result"
    }
   ],
   "source": [
    "file_obj.readline()"
   ]
  },
  {
   "cell_type": "code",
   "execution_count": 36,
   "id": "60511833",
   "metadata": {},
   "outputs": [],
   "source": [
    "file_obj.close()"
   ]
  },
  {
   "cell_type": "code",
   "execution_count": 37,
   "id": "7d7d047e",
   "metadata": {},
   "outputs": [],
   "source": [
    "file_obj = open('module_practice.txt')"
   ]
  },
  {
   "cell_type": "code",
   "execution_count": 38,
   "id": "28a346e9",
   "metadata": {},
   "outputs": [
    {
     "data": {
      "text/plain": [
       "'hello this is demo for write data in file\\n'"
      ]
     },
     "execution_count": 38,
     "metadata": {},
     "output_type": "execute_result"
    }
   ],
   "source": [
    "file_obj.readline()"
   ]
  },
  {
   "cell_type": "code",
   "execution_count": 39,
   "id": "602f22ad",
   "metadata": {},
   "outputs": [],
   "source": [
    "file_obj.close()"
   ]
  },
  {
   "cell_type": "markdown",
   "id": "96e1552d",
   "metadata": {},
   "source": [
    "# Write a Python program to read last n lines of a file."
   ]
  },
  {
   "cell_type": "code",
   "execution_count": 47,
   "id": "1d1bc123",
   "metadata": {},
   "outputs": [
    {
     "name": "stdout",
     "output_type": "stream",
     "text": [
      "[' append text to a file and display the text.']\n"
     ]
    }
   ],
   "source": [
    "file_obj=open('module_practice.txt')\n",
    "last_readline = file_obj.readlines()\n",
    "print(last_readline[-1:])\n",
    "file_obj.close()"
   ]
  },
  {
   "cell_type": "markdown",
   "id": "845a62ad",
   "metadata": {},
   "source": [
    "# Write a Python program to read a file line by line and store it into a list."
   ]
  },
  {
   "cell_type": "code",
   "execution_count": 50,
   "id": "0cec953e",
   "metadata": {},
   "outputs": [
    {
     "name": "stdout",
     "output_type": "stream",
     "text": [
      "['hello this is demo for write data in file\\n']\n"
     ]
    }
   ],
   "source": [
    "a=list()\n",
    "file_obj=open('module_practice.txt')\n",
    "a.append(file_obj.readline())\n",
    "print(a)\n",
    "file_obj.close()"
   ]
  },
  {
   "cell_type": "markdown",
   "id": "580005aa",
   "metadata": {},
   "source": [
    "# Write a Python program to read a file line by line store it into a variable."
   ]
  },
  {
   "cell_type": "code",
   "execution_count": 1,
   "id": "a7215996",
   "metadata": {},
   "outputs": [
    {
     "name": "stdout",
     "output_type": "stream",
     "text": [
      "hello this is demo for write data in file\n",
      " append text to a file and display the text.\n"
     ]
    }
   ],
   "source": [
    "a = file_obj = open('module_practice.txt')\n",
    "b=''\n",
    "for i in range(1,100):\n",
    "    b=b+a.read(i)\n",
    "print(b)"
   ]
  },
  {
   "cell_type": "code",
   "execution_count": 2,
   "id": "db88b111",
   "metadata": {},
   "outputs": [],
   "source": [
    "file_obj.close()"
   ]
  },
  {
   "cell_type": "markdown",
   "id": "d2d73386",
   "metadata": {},
   "source": [
    "# Write a python program to find the longest words."
   ]
  },
  {
   "cell_type": "code",
   "execution_count": 1,
   "id": "e322926b",
   "metadata": {},
   "outputs": [],
   "source": [
    "file_obj=open('module_practice2.txt','x') #creat a file\n",
    "file_obj.write('hello this is demo for write data in file') #write data to the created file\n",
    "\n",
    "file_obj.close()"
   ]
  },
  {
   "cell_type": "markdown",
   "id": "c3095905",
   "metadata": {},
   "source": [
    "# Write a Python program to count the number of lines in a text file."
   ]
  },
  {
   "cell_type": "code",
   "execution_count": null,
   "id": "44b3bed6",
   "metadata": {},
   "outputs": [],
   "source": []
  }
 ],
 "metadata": {
  "kernelspec": {
   "display_name": "Python 3 (ipykernel)",
   "language": "python",
   "name": "python3"
  },
  "language_info": {
   "codemirror_mode": {
    "name": "ipython",
    "version": 3
   },
   "file_extension": ".py",
   "mimetype": "text/x-python",
   "name": "python",
   "nbconvert_exporter": "python",
   "pygments_lexer": "ipython3",
   "version": "3.9.12"
  }
 },
 "nbformat": 4,
 "nbformat_minor": 5
}
