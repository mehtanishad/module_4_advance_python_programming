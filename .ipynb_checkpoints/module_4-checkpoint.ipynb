{
 "cells": [
  {
   "cell_type": "markdown",
   "id": "ba800d02",
   "metadata": {},
   "source": [
    "# What is File function in python? What is keywords to create and write file.\n",
    "\n",
    "Files are named locations on disk to store related information. They are used to permanently store data in a non-volatile memory \n",
    "Random Access Memory we use files for future use of the data by permanently storing them.\n",
    "\n",
    "create and write file"
   ]
  },
  {
   "cell_type": "code",
   "execution_count": 9,
   "id": "3cc52938",
   "metadata": {},
   "outputs": [],
   "source": [
    "file_obj=open('module_practice.txt','x') #creat a file\n",
    "file_obj.write('hello this is demo for write data in file') #write data to the created file\n",
    "\n",
    "file_obj.close()"
   ]
  },
  {
   "cell_type": "markdown",
   "id": "91bfd2ac",
   "metadata": {},
   "source": [
    "# Write a Python program to read an entire text file."
   ]
  },
  {
   "cell_type": "code",
   "execution_count": 14,
   "id": "a6a0082a",
   "metadata": {},
   "outputs": [],
   "source": [
    "file_obj=open('module_practice.txt')"
   ]
  },
  {
   "cell_type": "raw",
   "id": "d0b68613",
   "metadata": {},
   "source": [
    "\n",
    "file_obj.read()"
   ]
  },
  {
   "cell_type": "code",
   "execution_count": 17,
   "id": "79959bad",
   "metadata": {},
   "outputs": [
    {
     "data": {
      "text/plain": [
       "''"
      ]
     },
     "execution_count": 17,
     "metadata": {},
     "output_type": "execute_result"
    }
   ],
   "source": [
    "file_obj.read()"
   ]
  },
  {
   "cell_type": "code",
   "execution_count": 19,
   "id": "7a7e7972",
   "metadata": {},
   "outputs": [
    {
     "data": {
      "text/plain": [
       "0"
      ]
     },
     "execution_count": 19,
     "metadata": {},
     "output_type": "execute_result"
    }
   ],
   "source": [
    "file_obj.seek(0)"
   ]
  },
  {
   "cell_type": "code",
   "execution_count": 20,
   "id": "7d207076",
   "metadata": {},
   "outputs": [
    {
     "data": {
      "text/plain": [
       "'hello this'"
      ]
     },
     "execution_count": 20,
     "metadata": {},
     "output_type": "execute_result"
    }
   ],
   "source": [
    "file_obj.read(10)"
   ]
  },
  {
   "cell_type": "code",
   "execution_count": 21,
   "id": "bca9659d",
   "metadata": {},
   "outputs": [],
   "source": [
    "file_obj.close()"
   ]
  },
  {
   "cell_type": "markdown",
   "id": "94ac10eb",
   "metadata": {},
   "source": [
    "# Write a Python program to append text to a file and display the text."
   ]
  },
  {
   "cell_type": "code",
   "execution_count": 22,
   "id": "80916349",
   "metadata": {},
   "outputs": [],
   "source": [
    "file_obj = open('module_practice.txt','a+')"
   ]
  },
  {
   "cell_type": "code",
   "execution_count": 23,
   "id": "f991b150",
   "metadata": {},
   "outputs": [
    {
     "data": {
      "text/plain": [
       "45"
      ]
     },
     "execution_count": 23,
     "metadata": {},
     "output_type": "execute_result"
    }
   ],
   "source": [
    "file_obj.write('\\n append text to a file and display the text.')"
   ]
  },
  {
   "cell_type": "code",
   "execution_count": 24,
   "id": "8bdc3e60",
   "metadata": {},
   "outputs": [
    {
     "data": {
      "text/plain": [
       "''"
      ]
     },
     "execution_count": 24,
     "metadata": {},
     "output_type": "execute_result"
    }
   ],
   "source": [
    "file_obj.read()"
   ]
  },
  {
   "cell_type": "code",
   "execution_count": 26,
   "id": "4450f66a",
   "metadata": {},
   "outputs": [
    {
     "data": {
      "text/plain": [
       "0"
      ]
     },
     "execution_count": 26,
     "metadata": {},
     "output_type": "execute_result"
    }
   ],
   "source": [
    "file_obj.seek(0)"
   ]
  },
  {
   "cell_type": "code",
   "execution_count": 28,
   "id": "e495f9d8",
   "metadata": {},
   "outputs": [
    {
     "data": {
      "text/plain": [
       "'hello this is demo for write data in file\\n append text to a file and display the text.'"
      ]
     },
     "execution_count": 28,
     "metadata": {},
     "output_type": "execute_result"
    }
   ],
   "source": [
    "file_obj.read()"
   ]
  },
  {
   "cell_type": "code",
   "execution_count": 30,
   "id": "a29633f8",
   "metadata": {},
   "outputs": [],
   "source": [
    "file_obj.close()"
   ]
  },
  {
   "cell_type": "markdown",
   "id": "c5f5b455",
   "metadata": {},
   "source": [
    "# Write a Python program to read first n lines of a file."
   ]
  },
  {
   "cell_type": "code",
   "execution_count": 31,
   "id": "e139f112",
   "metadata": {},
   "outputs": [],
   "source": [
    "file_obj = open('module_practice.txt')"
   ]
  },
  {
   "cell_type": "code",
   "execution_count": 34,
   "id": "1392d8c2",
   "metadata": {},
   "outputs": [
    {
     "data": {
      "text/plain": [
       "''"
      ]
     },
     "execution_count": 34,
     "metadata": {},
     "output_type": "execute_result"
    }
   ],
   "source": [
    "file_obj.readline()"
   ]
  },
  {
   "cell_type": "code",
   "execution_count": 36,
   "id": "60511833",
   "metadata": {},
   "outputs": [],
   "source": [
    "file_obj.close()"
   ]
  },
  {
   "cell_type": "code",
   "execution_count": 37,
   "id": "7d7d047e",
   "metadata": {},
   "outputs": [],
   "source": [
    "file_obj = open('module_practice.txt')"
   ]
  },
  {
   "cell_type": "code",
   "execution_count": 38,
   "id": "28a346e9",
   "metadata": {},
   "outputs": [
    {
     "data": {
      "text/plain": [
       "'hello this is demo for write data in file\\n'"
      ]
     },
     "execution_count": 38,
     "metadata": {},
     "output_type": "execute_result"
    }
   ],
   "source": [
    "file_obj.readline()"
   ]
  },
  {
   "cell_type": "code",
   "execution_count": 39,
   "id": "602f22ad",
   "metadata": {},
   "outputs": [],
   "source": [
    "file_obj.close()"
   ]
  },
  {
   "cell_type": "markdown",
   "id": "96e1552d",
   "metadata": {},
   "source": [
    "# Write a Python program to read last n lines of a file."
   ]
  },
  {
   "cell_type": "code",
   "execution_count": 47,
   "id": "1d1bc123",
   "metadata": {},
   "outputs": [
    {
     "name": "stdout",
     "output_type": "stream",
     "text": [
      "[' append text to a file and display the text.']\n"
     ]
    }
   ],
   "source": [
    "file_obj=open('module_practice.txt')\n",
    "last_readline = file_obj.readlines()\n",
    "print(last_readline[-1:])\n",
    "file_obj.close()"
   ]
  },
  {
   "cell_type": "markdown",
   "id": "845a62ad",
   "metadata": {},
   "source": [
    "# Write a Python program to read a file line by line and store it into a list."
   ]
  },
  {
   "cell_type": "code",
   "execution_count": 50,
   "id": "0cec953e",
   "metadata": {},
   "outputs": [
    {
     "name": "stdout",
     "output_type": "stream",
     "text": [
      "['hello this is demo for write data in file\\n']\n"
     ]
    }
   ],
   "source": [
    "a=list()\n",
    "file_obj=open('module_practice.txt')\n",
    "a.append(file_obj.readline())\n",
    "print(a)\n",
    "file_obj.close()"
   ]
  },
  {
   "cell_type": "markdown",
   "id": "580005aa",
   "metadata": {},
   "source": [
    "# Write a Python program to read a file line by line store it into a variable."
   ]
  },
  {
   "cell_type": "code",
   "execution_count": 1,
   "id": "a7215996",
   "metadata": {},
   "outputs": [
    {
     "name": "stdout",
     "output_type": "stream",
     "text": [
      "hello this is demo for write data in file\n",
      " append text to a file and display the text.\n"
     ]
    }
   ],
   "source": [
    "a = file_obj = open('module_practice.txt')\n",
    "b=''\n",
    "for i in range(1,100):\n",
    "    b=b+a.read(i)\n",
    "print(b)"
   ]
  },
  {
   "cell_type": "code",
   "execution_count": 2,
   "id": "db88b111",
   "metadata": {},
   "outputs": [],
   "source": [
    "file_obj.close()"
   ]
  },
  {
   "cell_type": "markdown",
   "id": "d2d73386",
   "metadata": {},
   "source": [
    "# Write a python program to find the longest words."
   ]
  },
  {
   "cell_type": "code",
   "execution_count": 1,
   "id": "e322926b",
   "metadata": {},
   "outputs": [],
   "source": [
    "file_obj=open('module_practice2.txt','x') #creat a file\n",
    "file_obj.write('hello this is demo for write data in file') #write data to the created file\n",
    "\n",
    "file_obj.close()"
   ]
  },
  {
   "cell_type": "markdown",
   "id": "c3095905",
   "metadata": {},
   "source": [
    "# Write a Python program to copy the contents of a file to another file."
   ]
  },
  {
   "cell_type": "code",
   "execution_count": 5,
   "id": "44b3bed6",
   "metadata": {},
   "outputs": [
    {
     "ename": "FileExistsError",
     "evalue": "[Errno 17] File exists: 'module_practice2.txt'",
     "output_type": "error",
     "traceback": [
      "\u001b[1;31m---------------------------------------------------------------------------\u001b[0m",
      "\u001b[1;31mFileExistsError\u001b[0m                           Traceback (most recent call last)",
      "Input \u001b[1;32mIn [5]\u001b[0m, in \u001b[0;36m<cell line: 4>\u001b[1;34m()\u001b[0m\n\u001b[0;32m      2\u001b[0m c\u001b[38;5;241m=\u001b[39mfile_obj\u001b[38;5;241m.\u001b[39mread()\n\u001b[0;32m      3\u001b[0m file_obj\u001b[38;5;241m.\u001b[39mclose()\n\u001b[1;32m----> 4\u001b[0m file_obj\u001b[38;5;241m=\u001b[39m\u001b[38;5;28;43mopen\u001b[39;49m\u001b[43m(\u001b[49m\u001b[38;5;124;43m'\u001b[39;49m\u001b[38;5;124;43mmodule_practice2.txt\u001b[39;49m\u001b[38;5;124;43m'\u001b[39;49m\u001b[43m,\u001b[49m\u001b[38;5;124;43m'\u001b[39;49m\u001b[38;5;124;43mx\u001b[39;49m\u001b[38;5;124;43m'\u001b[39;49m\u001b[43m)\u001b[49m\n\u001b[0;32m      5\u001b[0m file_obj\u001b[38;5;241m.\u001b[39mwrite(c)\n\u001b[0;32m      6\u001b[0m file_obj\u001b[38;5;241m.\u001b[39mclose()\n",
      "\u001b[1;31mFileExistsError\u001b[0m: [Errno 17] File exists: 'module_practice2.txt'"
     ]
    }
   ],
   "source": [
    "file_obj=open('module_practice.txt')\n",
    "c=file_obj.read()\n",
    "file_obj.close()\n",
    "file_obj=open('copy_file2.txt','x')\n",
    "file_obj.write(c)\n",
    "file_obj.close()\n",
    "file_obj=open('copy_file.txt')\n",
    "print(file_obj.read())\n",
    "file_obj.close()"
   ]
  },
  {
   "cell_type": "markdown",
   "id": "eb1368ea",
   "metadata": {},
   "source": [
    "# Write python program that user to enter only odd numbers, else will raise an exception\n"
   ]
  },
  {
   "cell_type": "code",
   "execution_count": null,
   "id": "eda65283",
   "metadata": {},
   "outputs": [],
   "source": [
    "num=input('Enter A Number: ')\n",
    "if num.isnumeric():\n",
    "    if int(num)%2!=0:\n",
    "        print('Odd Number')\n",
    "    else:\n",
    "        raise ValueError ('Invalid Number')\n",
    "else:\n",
    "    raise TypeError ('Enter Only Numeric Value')"
   ]
  },
  {
   "cell_type": "markdown",
   "id": "fbc33521",
   "metadata": {},
   "source": [
    "# When is the finally block executed?"
   ]
  },
  {
   "cell_type": "markdown",
   "id": "e6662f5a",
   "metadata": {},
   "source": [
    "The finally keyword is used in try...except blocks. It defines a block of code to run when the try...except...else block is final.\n",
    "The finally block will be executed no matter if the try block raises an error or not.\n",
    "This can be useful to close objects and clean up resources."
   ]
  },
  {
   "cell_type": "markdown",
   "id": "beeafadc",
   "metadata": {},
   "source": [
    "# Can one block of except statements handle multiple exception?"
   ]
  },
  {
   "cell_type": "code",
   "execution_count": null,
   "id": "e9bb499a",
   "metadata": {},
   "outputs": [],
   "source": [
    "a=input()\n",
    "b=input()\n",
    "try:\n",
    "    print(int(a)/int(b))\n",
    "except Exception as e:\n",
    "    print(e)\n"
   ]
  },
  {
   "cell_type": "code",
   "execution_count": null,
   "id": "aed95fa4",
   "metadata": {},
   "outputs": [],
   "source": [
    "a=input()\n",
    "b=input()\n",
    "try:\n",
    "    print(int(a)/int(b))\n",
    "except (NameError,ValueError,ZeroDivisionError) as e:\n",
    "    print(e)"
   ]
  },
  {
   "cell_type": "markdown",
   "id": "4afd0145",
   "metadata": {},
   "source": [
    "# Explain Exception handling? What is an Error in Python?"
   ]
  },
  {
   "cell_type": "markdown",
   "id": "1b54f4ff",
   "metadata": {},
   "source": [
    "An Exception is an error that happens during the execution of a program. Whenever there is an error, Python generates an exception that could be handled. It basically prevents the program from getting crashed.\n",
    "\n",
    "Errors are the problems in a program due to which the program will stop the execution. On the other hand, exceptions are raised when some internal events occur which changes the normal flow of the program.\n"
   ]
  },
  {
   "cell_type": "markdown",
   "id": "edbb62f6",
   "metadata": {},
   "source": [
    "# When is the finally block executed?"
   ]
  },
  {
   "cell_type": "markdown",
   "id": "ae5ac48b",
   "metadata": {},
   "source": [
    "The finally block will be executed no matter if the try block raises an error or not.\n",
    "\n",
    "This can be useful to close objects and clean up resources.\n"
   ]
  },
  {
   "cell_type": "markdown",
   "id": "48b3589d",
   "metadata": {},
   "source": [
    "# How Do You Handle Exceptions With Try/Except/Finally In Python?Explain with coding snippets"
   ]
  },
  {
   "cell_type": "markdown",
   "id": "427b2fdf",
   "metadata": {},
   "source": [
    "We can specify which exceptions an except clause should catch. A try clause can have any number of except clauses to handle different exceptions, however, only one will be executed in case an exception occurs. We can use a tuple of values to specify multiple exceptions in an except clause."
   ]
  },
  {
   "cell_type": "code",
   "execution_count": null,
   "id": "65ded4fd",
   "metadata": {},
   "outputs": [],
   "source": [
    "num=input()\n",
    "num2=input()\n",
    "try:\n",
    "    avg=(int(num)+int(num2))/2\n",
    "except Exception as err:\n",
    "    print(err)\n",
    "finally:\n",
    "    print(avg)\n",
    "    print(\"final statement\")\n",
    "\n"
   ]
  },
  {
   "cell_type": "markdown",
   "id": "943d809c",
   "metadata": {},
   "source": [
    "# Write a Python program to count the number of lines in a text file."
   ]
  },
  {
   "cell_type": "code",
   "execution_count": null,
   "id": "9b6dc307",
   "metadata": {},
   "outputs": [],
   "source": [
    "file_obj=open('module_practice.txt')\n",
    "d=file_obj.readlines()\n",
    "k=1+(d.count('/n'))\n",
    "print(f'number of line: {k}')"
   ]
  },
  {
   "cell_type": "markdown",
   "id": "c90e8a46",
   "metadata": {},
   "source": [
    "# Write a Python program to write a list to a file."
   ]
  },
  {
   "cell_type": "code",
   "execution_count": null,
   "id": "72aa9e83",
   "metadata": {},
   "outputs": [],
   "source": [
    "file_obj=open('newlistdata4','x')\n",
    "a=['apple','mango','banana']\n",
    "for i in a:\n",
    "    file_obj.write(f'{i}\\n')\n",
    "else:\n",
    "    file_obj.close()\n",
    "    file_obj=open('newlistdata4')\n",
    "    print(file_obj.read())\n",
    "    file_obj.close()"
   ]
  },
  {
   "cell_type": "markdown",
   "id": "531849ef",
   "metadata": {},
   "source": [
    "# Explain Inheritance in Python with an example?What is init? Or What Is A Constructor In Python?"
   ]
  },
  {
   "cell_type": "markdown",
   "id": "f2e5d4cf",
   "metadata": {},
   "source": [
    "Inheritance relationship defines the classes that inherit from other classes as derived, subclass, or sub-type classes. Base class remains to be the source from which a subclass inherits. For example, you have a Base class of “Animal,” and a “Lion” is a Derived class. The inheritance will be Lion is an Animal\n",
    ".\n",
    "\n",
    "The init method is the Python equivalent of the C++ constructor in an object-oriented approach.\n",
    ".\n",
    "\n",
    "A constructor is a special method in a class used to create and initialize an object of a class."
   ]
  },
  {
   "cell_type": "code",
   "execution_count": null,
   "id": "87802cc2",
   "metadata": {},
   "outputs": [],
   "source": []
  }
 ],
 "metadata": {
  "kernelspec": {
   "display_name": "Python 3 (ipykernel)",
   "language": "python",
   "name": "python3"
  },
  "language_info": {
   "codemirror_mode": {
    "name": "ipython",
    "version": 3
   },
   "file_extension": ".py",
   "mimetype": "text/x-python",
   "name": "python",
   "nbconvert_exporter": "python",
   "pygments_lexer": "ipython3",
   "version": "3.9.12"
  }
 },
 "nbformat": 4,
 "nbformat_minor": 5
}
