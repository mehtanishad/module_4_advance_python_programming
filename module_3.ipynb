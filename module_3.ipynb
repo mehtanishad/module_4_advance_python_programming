{
 "cells": [
  {
   "cell_type": "markdown",
   "id": "8db3a590",
   "metadata": {},
   "source": [
    "# What is File function in python? What is keywords to create and write file.\n",
    "\n",
    "Files are named locations on disk to store related information. They are used to permanently store data in a non-volatile memory \n",
    "Random Access Memory we use files for future use of the data by permanently storing them.\n",
    "\n",
    "create and write file"
   ]
  },
  {
   "cell_type": "code",
   "execution_count": 9,
   "id": "2c4063b1",
   "metadata": {},
   "outputs": [],
   "source": [
    "file_obj=open('module_practice.txt','x') #creat a file\n",
    "file_obj.write('hello this is demo for write data in file') #write data to the created file\n",
    "\n",
    "file_obj.close()"
   ]
  },
  {
   "cell_type": "markdown",
   "id": "624c42a2",
   "metadata": {},
   "source": [
    "# Write a Python program to read an entire text file."
   ]
  },
  {
   "cell_type": "code",
   "execution_count": 14,
   "id": "2718bd24",
   "metadata": {},
   "outputs": [],
   "source": [
    "file_obj=open('module_practice.txt')"
   ]
  },
  {
   "cell_type": "raw",
   "id": "53616b7f",
   "metadata": {},
   "source": [
    "\n",
    "file_obj.read()"
   ]
  },
  {
   "cell_type": "code",
   "execution_count": 17,
   "id": "be53ef17",
   "metadata": {},
   "outputs": [
    {
     "data": {
      "text/plain": [
       "''"
      ]
     },
     "execution_count": 17,
     "metadata": {},
     "output_type": "execute_result"
    }
   ],
   "source": [
    "file_obj.read()"
   ]
  },
  {
   "cell_type": "code",
   "execution_count": 19,
   "id": "d4464dd6",
   "metadata": {},
   "outputs": [
    {
     "data": {
      "text/plain": [
       "0"
      ]
     },
     "execution_count": 19,
     "metadata": {},
     "output_type": "execute_result"
    }
   ],
   "source": [
    "file_obj.seek(0)"
   ]
  },
  {
   "cell_type": "code",
   "execution_count": 20,
   "id": "d500cd3f",
   "metadata": {},
   "outputs": [
    {
     "data": {
      "text/plain": [
       "'hello this'"
      ]
     },
     "execution_count": 20,
     "metadata": {},
     "output_type": "execute_result"
    }
   ],
   "source": [
    "file_obj.read(10)"
   ]
  },
  {
   "cell_type": "code",
   "execution_count": 21,
   "id": "9bac5566",
   "metadata": {},
   "outputs": [],
   "source": [
    "file_obj.close()"
   ]
  },
  {
   "cell_type": "markdown",
   "id": "69c56705",
   "metadata": {},
   "source": [
    "# Write a Python program to append text to a file and display the text."
   ]
  },
  {
   "cell_type": "code",
   "execution_count": 22,
   "id": "17bb594b",
   "metadata": {},
   "outputs": [],
   "source": [
    "file_obj = open('module_practice.txt','a+')"
   ]
  },
  {
   "cell_type": "code",
   "execution_count": 23,
   "id": "ea3ec834",
   "metadata": {},
   "outputs": [
    {
     "data": {
      "text/plain": [
       "45"
      ]
     },
     "execution_count": 23,
     "metadata": {},
     "output_type": "execute_result"
    }
   ],
   "source": [
    "file_obj.write('\\n append text to a file and display the text.')"
   ]
  },
  {
   "cell_type": "code",
   "execution_count": 24,
   "id": "3a9397a7",
   "metadata": {},
   "outputs": [
    {
     "data": {
      "text/plain": [
       "''"
      ]
     },
     "execution_count": 24,
     "metadata": {},
     "output_type": "execute_result"
    }
   ],
   "source": [
    "file_obj.read()"
   ]
  },
  {
   "cell_type": "code",
   "execution_count": 26,
   "id": "c95b4ed1",
   "metadata": {},
   "outputs": [
    {
     "data": {
      "text/plain": [
       "0"
      ]
     },
     "execution_count": 26,
     "metadata": {},
     "output_type": "execute_result"
    }
   ],
   "source": [
    "file_obj.seek(0)"
   ]
  },
  {
   "cell_type": "code",
   "execution_count": 28,
   "id": "fd7483fa",
   "metadata": {},
   "outputs": [
    {
     "data": {
      "text/plain": [
       "'hello this is demo for write data in file\\n append text to a file and display the text.'"
      ]
     },
     "execution_count": 28,
     "metadata": {},
     "output_type": "execute_result"
    }
   ],
   "source": [
    "file_obj.read()"
   ]
  },
  {
   "cell_type": "code",
   "execution_count": 30,
   "id": "a14d0238",
   "metadata": {},
   "outputs": [],
   "source": [
    "file_obj.close()"
   ]
  },
  {
   "cell_type": "markdown",
   "id": "e192719a",
   "metadata": {},
   "source": [
    "# Write a Python program to read first n lines of a file."
   ]
  },
  {
   "cell_type": "code",
   "execution_count": 31,
   "id": "5ada5eda",
   "metadata": {},
   "outputs": [],
   "source": [
    "file_obj = open('module_practice.txt')"
   ]
  },
  {
   "cell_type": "code",
   "execution_count": 34,
   "id": "5de6c397",
   "metadata": {},
   "outputs": [
    {
     "data": {
      "text/plain": [
       "''"
      ]
     },
     "execution_count": 34,
     "metadata": {},
     "output_type": "execute_result"
    }
   ],
   "source": [
    "file_obj.readline()"
   ]
  },
  {
   "cell_type": "code",
   "execution_count": 36,
   "id": "72d8b8dd",
   "metadata": {},
   "outputs": [],
   "source": [
    "file_obj.close()"
   ]
  },
  {
   "cell_type": "code",
   "execution_count": 37,
   "id": "2007a380",
   "metadata": {},
   "outputs": [],
   "source": [
    "file_obj = open('module_practice.txt')"
   ]
  },
  {
   "cell_type": "code",
   "execution_count": 38,
   "id": "6d2986c7",
   "metadata": {},
   "outputs": [
    {
     "data": {
      "text/plain": [
       "'hello this is demo for write data in file\\n'"
      ]
     },
     "execution_count": 38,
     "metadata": {},
     "output_type": "execute_result"
    }
   ],
   "source": [
    "file_obj.readline()"
   ]
  },
  {
   "cell_type": "code",
   "execution_count": 39,
   "id": "aaae9105",
   "metadata": {},
   "outputs": [],
   "source": [
    "file_obj.close()"
   ]
  },
  {
   "cell_type": "markdown",
   "id": "a14c1245",
   "metadata": {},
   "source": [
    "# Write a Python program to read last n lines of a file."
   ]
  },
  {
   "cell_type": "code",
   "execution_count": 47,
   "id": "9efcbd79",
   "metadata": {},
   "outputs": [
    {
     "name": "stdout",
     "output_type": "stream",
     "text": [
      "[' append text to a file and display the text.']\n"
     ]
    }
   ],
   "source": [
    "file_obj=open('module_practice.txt')\n",
    "last_readline = file_obj.readlines()\n",
    "print(last_readline[-1:])\n",
    "file_obj.close()"
   ]
  },
  {
   "cell_type": "markdown",
   "id": "ceca2b0a",
   "metadata": {},
   "source": [
    "# Write a Python program to read a file line by line and store it into a list."
   ]
  },
  {
   "cell_type": "code",
   "execution_count": 50,
   "id": "6d58195d",
   "metadata": {},
   "outputs": [
    {
     "name": "stdout",
     "output_type": "stream",
     "text": [
      "['hello this is demo for write data in file\\n']\n"
     ]
    }
   ],
   "source": [
    "a=list()\n",
    "file_obj=open('module_practice.txt')\n",
    "a.append(file_obj.readline())\n",
    "print(a)\n",
    "file_obj.close()"
   ]
  },
  {
   "cell_type": "code",
   "execution_count": null,
   "id": "803d731c",
   "metadata": {},
   "outputs": [],
   "source": []
  }
 ],
 "metadata": {
  "kernelspec": {
   "display_name": "Python 3 (ipykernel)",
   "language": "python",
   "name": "python3"
  },
  "language_info": {
   "codemirror_mode": {
    "name": "ipython",
    "version": 3
   },
   "file_extension": ".py",
   "mimetype": "text/x-python",
   "name": "python",
   "nbconvert_exporter": "python",
   "pygments_lexer": "ipython3",
   "version": "3.9.12"
  }
 },
 "nbformat": 4,
 "nbformat_minor": 5
}
